{
 "cells": [
  {
   "cell_type": "markdown",
   "metadata": {},
   "source": [
    "## Cargar los datos"
   ]
  },
  {
   "cell_type": "code",
   "execution_count": 448,
   "metadata": {},
   "outputs": [],
   "source": [
    "# pip install skforecast\n",
    "# !pip install keras\n",
    "# !pip install tensorflow\n",
    "# !pip install nltk\n",
    "# nltk.download('punkt')"
   ]
  },
  {
   "cell_type": "code",
   "execution_count": 449,
   "metadata": {},
   "outputs": [],
   "source": [
    "import pandas as pd\n",
    "from sklearn.model_selection import train_test_split\n",
    "from keras.models import Sequential\n",
    "from keras.layers import LSTM, Dense   \n",
    "import nltk\n",
    "import re\n",
    "from nltk.corpus import stopwords\n",
    "from sklearn.ensemble import RandomForestClassifier\n",
    "from sklearn.feature_extraction.text import TfidfVectorizer\n",
    "pd.options.display.max_rows = 50"
   ]
  },
  {
   "cell_type": "code",
   "execution_count": 450,
   "metadata": {},
   "outputs": [],
   "source": [
    "union_datasets_forecasting = pd.read_csv(\"./union_datasets_forecasting.csv\")"
   ]
  },
  {
   "cell_type": "code",
   "execution_count": 451,
   "metadata": {},
   "outputs": [
    {
     "data": {
      "text/html": [
       "<div>\n",
       "<style scoped>\n",
       "    .dataframe tbody tr th:only-of-type {\n",
       "        vertical-align: middle;\n",
       "    }\n",
       "\n",
       "    .dataframe tbody tr th {\n",
       "        vertical-align: top;\n",
       "    }\n",
       "\n",
       "    .dataframe thead th {\n",
       "        text-align: right;\n",
       "    }\n",
       "</style>\n",
       "<table border=\"1\" class=\"dataframe\">\n",
       "  <thead>\n",
       "    <tr style=\"text-align: right;\">\n",
       "      <th></th>\n",
       "      <th>cod_distrito</th>\n",
       "      <th>conteo</th>\n",
       "      <th>fecha</th>\n",
       "    </tr>\n",
       "  </thead>\n",
       "  <tbody>\n",
       "    <tr>\n",
       "      <th>0</th>\n",
       "      <td>3.0</td>\n",
       "      <td>9</td>\n",
       "      <td>2010-01-01</td>\n",
       "    </tr>\n",
       "    <tr>\n",
       "      <th>1</th>\n",
       "      <td>4.0</td>\n",
       "      <td>4</td>\n",
       "      <td>2010-01-01</td>\n",
       "    </tr>\n",
       "    <tr>\n",
       "      <th>2</th>\n",
       "      <td>5.0</td>\n",
       "      <td>3</td>\n",
       "      <td>2010-01-01</td>\n",
       "    </tr>\n",
       "    <tr>\n",
       "      <th>3</th>\n",
       "      <td>6.0</td>\n",
       "      <td>7</td>\n",
       "      <td>2010-01-01</td>\n",
       "    </tr>\n",
       "    <tr>\n",
       "      <th>4</th>\n",
       "      <td>7.0</td>\n",
       "      <td>2</td>\n",
       "      <td>2010-01-01</td>\n",
       "    </tr>\n",
       "    <tr>\n",
       "      <th>...</th>\n",
       "      <td>...</td>\n",
       "      <td>...</td>\n",
       "      <td>...</td>\n",
       "    </tr>\n",
       "    <tr>\n",
       "      <th>76748</th>\n",
       "      <td>3.0</td>\n",
       "      <td>9</td>\n",
       "      <td>2023-10-31</td>\n",
       "    </tr>\n",
       "    <tr>\n",
       "      <th>76749</th>\n",
       "      <td>2.0</td>\n",
       "      <td>6</td>\n",
       "      <td>2023-10-31</td>\n",
       "    </tr>\n",
       "    <tr>\n",
       "      <th>76750</th>\n",
       "      <td>1.0</td>\n",
       "      <td>5</td>\n",
       "      <td>2023-10-31</td>\n",
       "    </tr>\n",
       "    <tr>\n",
       "      <th>76751</th>\n",
       "      <td>10.0</td>\n",
       "      <td>8</td>\n",
       "      <td>2023-10-31</td>\n",
       "    </tr>\n",
       "    <tr>\n",
       "      <th>76752</th>\n",
       "      <td>21.0</td>\n",
       "      <td>2</td>\n",
       "      <td>2023-10-31</td>\n",
       "    </tr>\n",
       "  </tbody>\n",
       "</table>\n",
       "<p>76753 rows × 3 columns</p>\n",
       "</div>"
      ],
      "text/plain": [
       "       cod_distrito  conteo       fecha\n",
       "0               3.0       9  2010-01-01\n",
       "1               4.0       4  2010-01-01\n",
       "2               5.0       3  2010-01-01\n",
       "3               6.0       7  2010-01-01\n",
       "4               7.0       2  2010-01-01\n",
       "...             ...     ...         ...\n",
       "76748           3.0       9  2023-10-31\n",
       "76749           2.0       6  2023-10-31\n",
       "76750           1.0       5  2023-10-31\n",
       "76751          10.0       8  2023-10-31\n",
       "76752          21.0       2  2023-10-31\n",
       "\n",
       "[76753 rows x 3 columns]"
      ]
     },
     "execution_count": 451,
     "metadata": {},
     "output_type": "execute_result"
    }
   ],
   "source": [
    "union_datasets_forecasting"
   ]
  },
  {
   "cell_type": "code",
   "execution_count": 452,
   "metadata": {},
   "outputs": [],
   "source": [
    "union_datasets_forecasting['fecha'] = pd.to_datetime(union_datasets_forecasting['fecha'], format='%Y-%m-%d')\n",
    "\n",
    "fecha_limite = union_datasets_forecasting['fecha'].quantile(0.8)\n",
    "\n",
    "train = union_datasets_forecasting[union_datasets_forecasting['fecha'] <= fecha_limite]\n",
    "test = union_datasets_forecasting[union_datasets_forecasting['fecha'] > fecha_limite]"
   ]
  },
  {
   "cell_type": "markdown",
   "metadata": {},
   "source": [
    "## Preprocesamiento del dataset"
   ]
  },
  {
   "cell_type": "code",
   "execution_count": 453,
   "metadata": {},
   "outputs": [
    {
     "name": "stdout",
     "output_type": "stream",
     "text": [
      "Tamaños de los datasets:   Entrenamiento:  (61406, 3)  Prueba:  (15347, 3)\n"
     ]
    }
   ],
   "source": [
    "print(\"Tamaños de los datasets: \", \" Entrenamiento: \",train.shape, \" Prueba: \", test.shape)"
   ]
  },
  {
   "cell_type": "code",
   "execution_count": 454,
   "metadata": {},
   "outputs": [
    {
     "data": {
      "text/html": [
       "<div>\n",
       "<style scoped>\n",
       "    .dataframe tbody tr th:only-of-type {\n",
       "        vertical-align: middle;\n",
       "    }\n",
       "\n",
       "    .dataframe tbody tr th {\n",
       "        vertical-align: top;\n",
       "    }\n",
       "\n",
       "    .dataframe thead th {\n",
       "        text-align: right;\n",
       "    }\n",
       "</style>\n",
       "<table border=\"1\" class=\"dataframe\">\n",
       "  <thead>\n",
       "    <tr style=\"text-align: right;\">\n",
       "      <th></th>\n",
       "      <th>cod_distrito</th>\n",
       "      <th>conteo</th>\n",
       "      <th>fecha</th>\n",
       "    </tr>\n",
       "  </thead>\n",
       "  <tbody>\n",
       "    <tr>\n",
       "      <th>0</th>\n",
       "      <td>3.0</td>\n",
       "      <td>9</td>\n",
       "      <td>2010-01-01</td>\n",
       "    </tr>\n",
       "    <tr>\n",
       "      <th>1</th>\n",
       "      <td>4.0</td>\n",
       "      <td>4</td>\n",
       "      <td>2010-01-01</td>\n",
       "    </tr>\n",
       "    <tr>\n",
       "      <th>2</th>\n",
       "      <td>5.0</td>\n",
       "      <td>3</td>\n",
       "      <td>2010-01-01</td>\n",
       "    </tr>\n",
       "    <tr>\n",
       "      <th>3</th>\n",
       "      <td>6.0</td>\n",
       "      <td>7</td>\n",
       "      <td>2010-01-01</td>\n",
       "    </tr>\n",
       "    <tr>\n",
       "      <th>4</th>\n",
       "      <td>7.0</td>\n",
       "      <td>2</td>\n",
       "      <td>2010-01-01</td>\n",
       "    </tr>\n",
       "    <tr>\n",
       "      <th>...</th>\n",
       "      <td>...</td>\n",
       "      <td>...</td>\n",
       "      <td>...</td>\n",
       "    </tr>\n",
       "    <tr>\n",
       "      <th>61401</th>\n",
       "      <td>10.0</td>\n",
       "      <td>14</td>\n",
       "      <td>2021-07-19</td>\n",
       "    </tr>\n",
       "    <tr>\n",
       "      <th>61402</th>\n",
       "      <td>6.0</td>\n",
       "      <td>4</td>\n",
       "      <td>2021-07-19</td>\n",
       "    </tr>\n",
       "    <tr>\n",
       "      <th>61403</th>\n",
       "      <td>7.0</td>\n",
       "      <td>1</td>\n",
       "      <td>2021-07-19</td>\n",
       "    </tr>\n",
       "    <tr>\n",
       "      <th>61404</th>\n",
       "      <td>8.0</td>\n",
       "      <td>4</td>\n",
       "      <td>2021-07-19</td>\n",
       "    </tr>\n",
       "    <tr>\n",
       "      <th>61405</th>\n",
       "      <td>5.0</td>\n",
       "      <td>4</td>\n",
       "      <td>2021-07-19</td>\n",
       "    </tr>\n",
       "  </tbody>\n",
       "</table>\n",
       "<p>61406 rows × 3 columns</p>\n",
       "</div>"
      ],
      "text/plain": [
       "       cod_distrito  conteo      fecha\n",
       "0               3.0       9 2010-01-01\n",
       "1               4.0       4 2010-01-01\n",
       "2               5.0       3 2010-01-01\n",
       "3               6.0       7 2010-01-01\n",
       "4               7.0       2 2010-01-01\n",
       "...             ...     ...        ...\n",
       "61401          10.0      14 2021-07-19\n",
       "61402           6.0       4 2021-07-19\n",
       "61403           7.0       1 2021-07-19\n",
       "61404           8.0       4 2021-07-19\n",
       "61405           5.0       4 2021-07-19\n",
       "\n",
       "[61406 rows x 3 columns]"
      ]
     },
     "execution_count": 454,
     "metadata": {},
     "output_type": "execute_result"
    }
   ],
   "source": [
    "train"
   ]
  },
  {
   "cell_type": "code",
   "execution_count": 455,
   "metadata": {},
   "outputs": [],
   "source": [
    "def create_datasets_districts(train):\n",
    "    datasets_districts = []\n",
    "    for i in range(1,len(train.cod_distrito.unique())+1):\n",
    "        datasets_districts.append(train[train.cod_distrito==i])\n",
    "    return datasets_districts"
   ]
  },
  {
   "cell_type": "code",
   "execution_count": 456,
   "metadata": {},
   "outputs": [
    {
     "data": {
      "text/html": [
       "<div>\n",
       "<style scoped>\n",
       "    .dataframe tbody tr th:only-of-type {\n",
       "        vertical-align: middle;\n",
       "    }\n",
       "\n",
       "    .dataframe tbody tr th {\n",
       "        vertical-align: top;\n",
       "    }\n",
       "\n",
       "    .dataframe thead th {\n",
       "        text-align: right;\n",
       "    }\n",
       "</style>\n",
       "<table border=\"1\" class=\"dataframe\">\n",
       "  <thead>\n",
       "    <tr style=\"text-align: right;\">\n",
       "      <th></th>\n",
       "      <th>index</th>\n",
       "      <th>cod_distrito</th>\n",
       "      <th>conteo</th>\n",
       "      <th>fecha</th>\n",
       "    </tr>\n",
       "  </thead>\n",
       "  <tbody>\n",
       "    <tr>\n",
       "      <th>0</th>\n",
       "      <td>16</td>\n",
       "      <td>8.0</td>\n",
       "      <td>2</td>\n",
       "      <td>2010-01-02</td>\n",
       "    </tr>\n",
       "    <tr>\n",
       "      <th>1</th>\n",
       "      <td>32</td>\n",
       "      <td>8.0</td>\n",
       "      <td>3</td>\n",
       "      <td>2010-01-03</td>\n",
       "    </tr>\n",
       "    <tr>\n",
       "      <th>2</th>\n",
       "      <td>42</td>\n",
       "      <td>8.0</td>\n",
       "      <td>3</td>\n",
       "      <td>2010-01-04</td>\n",
       "    </tr>\n",
       "    <tr>\n",
       "      <th>3</th>\n",
       "      <td>56</td>\n",
       "      <td>8.0</td>\n",
       "      <td>4</td>\n",
       "      <td>2010-01-05</td>\n",
       "    </tr>\n",
       "    <tr>\n",
       "      <th>4</th>\n",
       "      <td>72</td>\n",
       "      <td>8.0</td>\n",
       "      <td>7</td>\n",
       "      <td>2010-01-07</td>\n",
       "    </tr>\n",
       "    <tr>\n",
       "      <th>...</th>\n",
       "      <td>...</td>\n",
       "      <td>...</td>\n",
       "      <td>...</td>\n",
       "      <td>...</td>\n",
       "    </tr>\n",
       "    <tr>\n",
       "      <th>3308</th>\n",
       "      <td>61313</td>\n",
       "      <td>8.0</td>\n",
       "      <td>6</td>\n",
       "      <td>2021-07-14</td>\n",
       "    </tr>\n",
       "    <tr>\n",
       "      <th>3309</th>\n",
       "      <td>61329</td>\n",
       "      <td>8.0</td>\n",
       "      <td>15</td>\n",
       "      <td>2021-07-15</td>\n",
       "    </tr>\n",
       "    <tr>\n",
       "      <th>3310</th>\n",
       "      <td>61353</td>\n",
       "      <td>8.0</td>\n",
       "      <td>1</td>\n",
       "      <td>2021-07-16</td>\n",
       "    </tr>\n",
       "    <tr>\n",
       "      <th>3311</th>\n",
       "      <td>61371</td>\n",
       "      <td>8.0</td>\n",
       "      <td>1</td>\n",
       "      <td>2021-07-17</td>\n",
       "    </tr>\n",
       "    <tr>\n",
       "      <th>3312</th>\n",
       "      <td>61404</td>\n",
       "      <td>8.0</td>\n",
       "      <td>4</td>\n",
       "      <td>2021-07-19</td>\n",
       "    </tr>\n",
       "  </tbody>\n",
       "</table>\n",
       "<p>3313 rows × 4 columns</p>\n",
       "</div>"
      ],
      "text/plain": [
       "      index  cod_distrito  conteo      fecha\n",
       "0        16           8.0       2 2010-01-02\n",
       "1        32           8.0       3 2010-01-03\n",
       "2        42           8.0       3 2010-01-04\n",
       "3        56           8.0       4 2010-01-05\n",
       "4        72           8.0       7 2010-01-07\n",
       "...     ...           ...     ...        ...\n",
       "3308  61313           8.0       6 2021-07-14\n",
       "3309  61329           8.0      15 2021-07-15\n",
       "3310  61353           8.0       1 2021-07-16\n",
       "3311  61371           8.0       1 2021-07-17\n",
       "3312  61404           8.0       4 2021-07-19\n",
       "\n",
       "[3313 rows x 4 columns]"
      ]
     },
     "execution_count": 456,
     "metadata": {},
     "output_type": "execute_result"
    }
   ],
   "source": [
    "datasets_distritos = create_datasets_districts(train)\n",
    "for i in range(len(datasets_distritos)):\n",
    "    datasets_distritos[i] = datasets_distritos[i].reset_index()\n",
    "datasets_distritos[7]"
   ]
  },
  {
   "cell_type": "markdown",
   "metadata": {},
   "source": [
    "## Modelos"
   ]
  },
  {
   "cell_type": "markdown",
   "metadata": {},
   "source": [
    "#### FORECASTING / SERIES TEMPORALES"
   ]
  },
  {
   "cell_type": "code",
   "execution_count": 457,
   "metadata": {},
   "outputs": [],
   "source": [
    "from skforecast import ForecasterAutoreg\n",
    "from sklearn.ensemble import RandomForestRegressor\n",
    "from sklearn.metrics import mean_squared_error, mean_absolute_percentage_error\n",
    "\n",
    "forecaster = ForecasterAutoreg.ForecasterAutoreg(\n",
    "    regressor = RandomForestRegressor(random_state=42),\n",
    "    lags=20\n",
    ")"
   ]
  },
  {
   "cell_type": "code",
   "execution_count": 458,
   "metadata": {},
   "outputs": [],
   "source": [
    "def accidentes_trafico_por_distrito_forecasting(datasets_distritos):\n",
    "    modelos_distritos = []\n",
    "    for i in range(0,len(datasets_distritos)):\n",
    "        y_distrito = datasets_distritos[i].conteo\n",
    "        dataset_train, dataset_test = y_distrito[:len(y_distrito)//3], y_distrito[len(y_distrito)//3:]\n",
    "\n",
    "        forecaster.fit(y=pd.Series(dataset_train.array))\n",
    "        predictions = forecaster.predict(steps=20)\n",
    "\n",
    "        mape = mean_absolute_percentage_error(dataset_test[:20], predictions)\n",
    "        print(\"distrito: \", i+1, \"MAPE: \", mape)\n",
    "        modelos_distritos.append([i+1, mape])"
   ]
  },
  {
   "cell_type": "code",
   "execution_count": 459,
   "metadata": {},
   "outputs": [
    {
     "name": "stdout",
     "output_type": "stream",
     "text": [
      "distrito:  1 MAPE:  0.792657142857143\n",
      "distrito:  2 MAPE:  0.9118672619047619\n",
      "distrito:  3 MAPE:  0.8321029761904761\n",
      "distrito:  4 MAPE:  0.7534775335775337\n",
      "distrito:  5 MAPE:  1.5389695360195361\n",
      "distrito:  6 MAPE:  1.0901488095238099\n",
      "distrito:  7 MAPE:  0.6617309523809524\n",
      "distrito:  8 MAPE:  0.8744071428571427\n",
      "distrito:  9 MAPE:  1.1363625000000002\n",
      "distrito:  10 MAPE:  0.6814878205128204\n",
      "distrito:  11 MAPE:  0.6371402777777777\n",
      "distrito:  12 MAPE:  0.5674690476190476\n",
      "distrito:  13 MAPE:  0.49762628205128207\n",
      "distrito:  14 MAPE:  0.64595\n",
      "distrito:  15 MAPE:  1.4580666666666666\n",
      "distrito:  16 MAPE:  0.6445619047619049\n",
      "distrito:  17 MAPE:  0.5256480158730159\n",
      "distrito:  18 MAPE:  0.5921107142857144\n",
      "distrito:  19 MAPE:  0.5070833333333333\n",
      "distrito:  20 MAPE:  0.7949222943722944\n",
      "distrito:  21 MAPE:  0.433175\n"
     ]
    }
   ],
   "source": [
    "accidentes_trafico_por_distrito_forecasting(datasets_distritos)"
   ]
  },
  {
   "cell_type": "markdown",
   "metadata": {},
   "source": [
    "#### LSTM"
   ]
  },
  {
   "cell_type": "code",
   "execution_count": 460,
   "metadata": {},
   "outputs": [],
   "source": [
    "import numpy as np\n",
    "from tensorflow.keras.preprocessing.sequence import TimeseriesGenerator\n",
    "\n",
    "def lstm_generator(dataset_train):\n",
    "    generator = TimeseriesGenerator(dataset_train, dataset_train, length=20, batch_size=64,shuffle=False)\n",
    "\n",
    "    lstm = Sequential()\n",
    "    lstm.add(LSTM(50, activation='relu', input_shape=(10,1)))\n",
    "    lstm.add(Dense(1))\n",
    "    lstm.compile(optimizer='adam', loss='mean_squared_error')\n",
    "    lstm.fit(generator, epochs=10, shuffle=False, verbose=0)\n",
    "    return lstm"
   ]
  },
  {
   "cell_type": "code",
   "execution_count": 461,
   "metadata": {},
   "outputs": [],
   "source": [
    "def accidentes_trafico_por_distrito_lstm(datasets_distritos):\n",
    "    modelos_distritos = []\n",
    "    for i in range(0,len(datasets_distritos)):\n",
    "        y_distrito = datasets_distritos[i].conteo\n",
    "        dataset_train, dataset_test = y_distrito[:len(y_distrito)//3], y_distrito[len(y_distrito)//3:]\n",
    "        lstm = lstm_generator(dataset_train)\n",
    "        predictions = lstm.predict(dataset_test[:20])\n",
    "        mape = mean_absolute_percentage_error(dataset_test[:20], predictions)\n",
    "        print(\"distrito: \", i+1, \"MAPE: \", mape)\n",
    "        modelos_distritos.append([i+1, mape])"
   ]
  },
  {
   "cell_type": "code",
   "execution_count": 462,
   "metadata": {},
   "outputs": [
    {
     "name": "stdout",
     "output_type": "stream",
     "text": [
      "1/1 [==============================] - 0s 85ms/step\n",
      "distrito:  1 MAPE:  0.9319210038759879\n",
      "1/1 [==============================] - 0s 71ms/step\n",
      "distrito:  2 MAPE:  0.9602918538442324\n",
      "1/1 [==============================] - 0s 69ms/step\n",
      "distrito:  3 MAPE:  0.9204871656036093\n",
      "1/1 [==============================] - 0s 68ms/step\n",
      "distrito:  4 MAPE:  0.9745740762436181\n",
      "1/1 [==============================] - 0s 68ms/step\n",
      "distrito:  5 MAPE:  0.9311920174963598\n",
      "1/1 [==============================] - 0s 66ms/step\n",
      "distrito:  6 MAPE:  0.9046308451819989\n",
      "1/1 [==============================] - 0s 71ms/step\n",
      "distrito:  7 MAPE:  0.9191830756054038\n",
      "1/1 [==============================] - 0s 89ms/step\n",
      "distrito:  8 MAPE:  0.9422618622900476\n",
      "1/1 [==============================] - 0s 75ms/step\n",
      "distrito:  9 MAPE:  0.9379215133119198\n",
      "1/1 [==============================] - 0s 70ms/step\n",
      "distrito:  10 MAPE:  0.935070071343619\n",
      "1/1 [==============================] - 0s 68ms/step\n",
      "distrito:  11 MAPE:  0.9597794438422553\n",
      "1/1 [==============================] - 0s 67ms/step\n",
      "distrito:  12 MAPE:  0.9484556777810766\n",
      "1/1 [==============================] - 0s 66ms/step\n",
      "distrito:  13 MAPE:  0.9725000738705962\n",
      "1/1 [==============================] - 0s 68ms/step\n",
      "distrito:  14 MAPE:  0.920895733393374\n",
      "1/1 [==============================] - 0s 65ms/step\n",
      "distrito:  15 MAPE:  0.9584716987423597\n",
      "1/1 [==============================] - 0s 75ms/step\n",
      "distrito:  16 MAPE:  0.9411636872021925\n",
      "1/1 [==============================] - 0s 69ms/step\n",
      "distrito:  17 MAPE:  0.9419309273031022\n",
      "1/1 [==============================] - 0s 68ms/step\n",
      "distrito:  18 MAPE:  0.9304488599726131\n",
      "1/1 [==============================] - 0s 66ms/step\n",
      "distrito:  19 MAPE:  0.9166591134170691\n",
      "1/1 [==============================] - 0s 66ms/step\n",
      "distrito:  20 MAPE:  0.9355548240066994\n",
      "1/1 [==============================] - 0s 65ms/step\n",
      "distrito:  21 MAPE:  0.884273872375488\n"
     ]
    }
   ],
   "source": [
    "accidentes_trafico_por_distrito_lstm(datasets_distritos)"
   ]
  },
  {
   "cell_type": "markdown",
   "metadata": {},
   "source": [
    "#### Clasificacion"
   ]
  },
  {
   "cell_type": "code",
   "execution_count": 463,
   "metadata": {},
   "outputs": [],
   "source": [
    "from sklearn.model_selection import train_test_split"
   ]
  },
  {
   "cell_type": "code",
   "execution_count": 464,
   "metadata": {},
   "outputs": [],
   "source": [
    "accidentes_antiguo = pd.read_csv(\"./accidentes_antiguo.csv\")\n",
    "accidentes_nuevo = pd.read_csv(\"./accidentes_nuevo.csv\")\n",
    "accidentes_antiguo = accidentes_antiguo.drop(columns=[\"fecha\"])\n",
    "accidentes_nuevo = accidentes_nuevo.drop(columns=[\"fecha\"])"
   ]
  },
  {
   "cell_type": "code",
   "execution_count": 465,
   "metadata": {},
   "outputs": [],
   "source": [
    "accidentes_antiguo.dropna(inplace=True, axis=0)"
   ]
  },
  {
   "cell_type": "code",
   "execution_count": 466,
   "metadata": {},
   "outputs": [
    {
     "name": "stdout",
     "output_type": "stream",
     "text": [
      "Lesividad:  IL  Conteo:  (98387, 10)\n",
      "Lesividad:  HL  Conteo:  (102716, 10)\n",
      "Lesividad:  HG  Conteo:  (8850, 10)\n",
      "Lesividad:  NO ASIGNADA  Conteo:  (11104, 10)\n",
      "Lesividad:  MT  Conteo:  (275, 10)\n"
     ]
    }
   ],
   "source": [
    "## exploramos el dataset equilibrando mejor\n",
    "for i in accidentes_antiguo.lesividad.unique():\n",
    "    print(\"Lesividad: \",i, \" Conteo: \",accidentes_antiguo[accidentes_antiguo[\"lesividad\"]==i].shape)"
   ]
  },
  {
   "cell_type": "code",
   "execution_count": 467,
   "metadata": {},
   "outputs": [
    {
     "name": "stdout",
     "output_type": "stream",
     "text": [
      "cod_distrito float64\n",
      "dia_semana object\n",
      "hora object\n",
      "lesividad object\n",
      "localizacion object\n",
      "rango_edad object\n",
      "sexo object\n",
      "tipo_accidente object\n",
      "tipo_persona object\n",
      "tipo_vehiculo object\n"
     ]
    }
   ],
   "source": [
    "for i in accidentes_antiguo.columns:\n",
    "    print(i, accidentes_antiguo[i].dtype)"
   ]
  },
  {
   "cell_type": "code",
   "execution_count": 468,
   "metadata": {},
   "outputs": [],
   "source": [
    "to_dummie = [\"cod_distrito\",\"dia_semana\",\"hora\",\"rango_edad\",\"sexo\",\"tipo_persona\"]\n",
    "text_values = [\"localizacion\",\"tipo_vehiculo\",\"tipo_accidente\"]"
   ]
  },
  {
   "cell_type": "code",
   "execution_count": 469,
   "metadata": {},
   "outputs": [],
   "source": [
    "## to_dummies\n",
    "accidentes_antiguo = pd.get_dummies(accidentes_antiguo, columns=to_dummie)\n",
    "accidentes_nuevo = pd.get_dummies(accidentes_nuevo, columns=to_dummie)\n",
    "accidentes_antiguo.drop(columns=[\"localizacion\", \"tipo_vehiculo\", \"tipo_accidente\"], inplace=True)\n",
    "accidentes_nuevo.drop(columns=[\"localizacion\", \"tipo_vehiculo\", \"tipo_accidente\"], inplace=True)"
   ]
  },
  {
   "cell_type": "code",
   "execution_count": 470,
   "metadata": {},
   "outputs": [],
   "source": [
    "# from nltk.stem import PorterStemmer, LancasterStemmer, SnowballStemmer\n",
    "# ## text values\n",
    "# def procesar_col_text(dfaccidentes,columna):\n",
    "#     accidentes_localizacion = dfaccidentes[columna].to_list()\n",
    "#     accidentes_localizacion = [nltk.word_tokenize(text) for text in accidentes_localizacion]\n",
    "#     letras = \"[a-zA-Z]+\"\n",
    "#     lista_ok = []\n",
    "#     for localizacion in accidentes_localizacion:\n",
    "#         lista_ok.append([x for x in localizacion if x not in stopwords.words('spanish') and re.compile(letras).fullmatch(x)])\n",
    "#     sentences = []\n",
    "#     stemmer = LancasterStemmer()\n",
    "#     for frase in lista_ok:\n",
    "#         words = [stemmer.stem(x) for x in frase]\n",
    "#         sentences.append(words)\n",
    "#     sentences = [' '.join(i) for i in sentences]\n",
    "#     tfidf = TfidfVectorizer(max_features = 1000, min_df = 2, max_df = 0.6, stop_words = stopwords.words('spanish'))\n",
    "#     tfidf.fit(sentences)\n",
    "#     X_fin = tfidf.transform(sentences).toarray()\n",
    "#     return X_fin"
   ]
  },
  {
   "cell_type": "code",
   "execution_count": 471,
   "metadata": {},
   "outputs": [],
   "source": [
    "# accidentes_localizacion = accidentes_antiguo[\"localizacion\"].to_list()\n",
    "# accidentes_localizacion = [nltk.word_tokenize(text) for text in accidentes_localizacion]\n",
    "# letras = \"[a-zA-Z]+\"\n",
    "# lista_ok = []\n",
    "# for localizacion in accidentes_localizacion:\n",
    "#     lista_ok.append([x for x in localizacion if x not in stopwords.words('spanish') and re.compile(letras).fullmatch(x)])\n",
    "# sentences = []\n",
    "# stemmer = LancasterStemmer()\n",
    "# for frase in lista_ok:\n",
    "#     words = [stemmer.stem(x) for x in frase]\n",
    "#     sentences.append(words)\n",
    "# sentences = [' '.join(i) for i in sentences]\n",
    "# sentences\n",
    "# tfidf = TfidfVectorizer(max_features = 1000, min_df = 2, max_df = 0.6, stop_words = stopwords.words('spanish'))\n",
    "# tfidf.fit(sentences)\n",
    "# X_fin = tfidf.transform(sentences).toarray()"
   ]
  },
  {
   "cell_type": "code",
   "execution_count": 472,
   "metadata": {},
   "outputs": [],
   "source": [
    "# np.unique(X_fin)"
   ]
  },
  {
   "cell_type": "code",
   "execution_count": 473,
   "metadata": {},
   "outputs": [],
   "source": [
    "# localizacion_text"
   ]
  },
  {
   "cell_type": "code",
   "execution_count": 474,
   "metadata": {},
   "outputs": [],
   "source": [
    "# localizacion_text = procesar_col_text(accidentes_antiguo, \"localizacion\")\n",
    "# tipo_vehiculo_text = procesar_col_text(accidentes_antiguo, \"tipo_vehiculo\")\n",
    "# tipo_accidente_text = procesar_col_text(accidentes_antiguo, \"tipo_accidente\")\n",
    "\n",
    "# accidentes_antiguo.localizacion = localizacion_text\n",
    "# accidentes_antiguo.tipo_vehiculo = tipo_vehiculo_text\n",
    "# accidentes_antiguo.tipo_accidente = tipo_accidente_text"
   ]
  },
  {
   "cell_type": "code",
   "execution_count": 475,
   "metadata": {},
   "outputs": [],
   "source": [
    "# localizacion_text = procesar_col_text(accidentes_nuevo, \"localizacion\")\n",
    "# tipo_vehiculo_text = procesar_col_text(accidentes_nuevo, \"tipo_vehiculo\")\n",
    "# tipo_accidente_text = procesar_col_text(accidentes_nuevo, \"tipo_accidente\")\n",
    "\n",
    "# accidentes_nuevo.localizacion = localizacion_text\n",
    "# accidentes_nuevo.tipo_vehiculo = tipo_vehiculo_text\n",
    "# accidentes_nuevo.tipo_accidente = tipo_accidente_text"
   ]
  },
  {
   "cell_type": "code",
   "execution_count": 476,
   "metadata": {},
   "outputs": [
    {
     "name": "stdout",
     "output_type": "stream",
     "text": [
      "Lesividad:  IL  Conteo:  (98387, 77)\n",
      "Lesividad:  HL  Conteo:  (102716, 77)\n",
      "Lesividad:  HG  Conteo:  (8850, 77)\n",
      "Lesividad:  NO ASIGNADA  Conteo:  (11104, 77)\n",
      "Lesividad:  MT  Conteo:  (275, 77)\n"
     ]
    },
    {
     "name": "stderr",
     "output_type": "stream",
     "text": [
      "/tmp/ipykernel_108747/4288924214.py:5: FutureWarning: The frame.append method is deprecated and will be removed from pandas in a future version. Use pandas.concat instead.\n",
      "  accidentes_antiguo_for_process = accidentes_antiguo_for_process.append(accidentes_antiguo_p[accidentes_antiguo_p[\"lesividad\"]=='HL'][:98387%300], ignore_index=True)\n",
      "/tmp/ipykernel_108747/4288924214.py:6: FutureWarning: The frame.append method is deprecated and will be removed from pandas in a future version. Use pandas.concat instead.\n",
      "  accidentes_antiguo_for_process = accidentes_antiguo_for_process.append(accidentes_antiguo_p[accidentes_antiguo_p[\"lesividad\"]=='IL'][:102716%300], ignore_index=True)\n",
      "/tmp/ipykernel_108747/4288924214.py:7: FutureWarning: The frame.append method is deprecated and will be removed from pandas in a future version. Use pandas.concat instead.\n",
      "  accidentes_antiguo_for_process = accidentes_antiguo_for_process.append(accidentes_antiguo_p[accidentes_antiguo_p[\"lesividad\"]=='HG'][:8850%300], ignore_index=True)\n",
      "/tmp/ipykernel_108747/4288924214.py:8: FutureWarning: The frame.append method is deprecated and will be removed from pandas in a future version. Use pandas.concat instead.\n",
      "  accidentes_antiguo_for_process = accidentes_antiguo_for_process.append(accidentes_antiguo_p[accidentes_antiguo_p[\"lesividad\"]=='MT'][:275%300], ignore_index=True)\n"
     ]
    }
   ],
   "source": [
    "accidentes_antiguo_for_process = pd.DataFrame()\n",
    "accidentes_antiguo_p = accidentes_antiguo.drop_duplicates().dropna()\n",
    "\n",
    "\n",
    "accidentes_antiguo_for_process = accidentes_antiguo_for_process.append(accidentes_antiguo_p[accidentes_antiguo_p[\"lesividad\"]=='HL'][:98387%300], ignore_index=True)\n",
    "accidentes_antiguo_for_process = accidentes_antiguo_for_process.append(accidentes_antiguo_p[accidentes_antiguo_p[\"lesividad\"]=='IL'][:102716%300], ignore_index=True)\n",
    "accidentes_antiguo_for_process = accidentes_antiguo_for_process.append(accidentes_antiguo_p[accidentes_antiguo_p[\"lesividad\"]=='HG'][:8850%300], ignore_index=True)\n",
    "accidentes_antiguo_for_process = accidentes_antiguo_for_process.append(accidentes_antiguo_p[accidentes_antiguo_p[\"lesividad\"]=='MT'][:275%300], ignore_index=True)\n",
    "## exploramos el dataset equilibrando mejor\n",
    "for i in accidentes_antiguo.lesividad.unique():\n",
    "    print(\"Lesividad: \",i, \" Conteo: \",accidentes_antiguo[accidentes_antiguo[\"lesividad\"]==i].shape)\n",
    "# (98387, 77)(102716, 77)(8850, 77)(275, 77)"
   ]
  },
  {
   "cell_type": "code",
   "execution_count": 477,
   "metadata": {},
   "outputs": [],
   "source": [
    "accidentes_antiguo_X, accidentes_antiguo_y = accidentes_antiguo.drop(columns=\"lesividad\"), accidentes_antiguo.lesividad\n",
    "# accidentes_antiguo_for_process\n",
    "accidentes_antiguo_X_pro, accidentes_antiguo_y_pro = accidentes_antiguo_for_process.drop(columns=\"lesividad\"), accidentes_antiguo_for_process.lesividad"
   ]
  },
  {
   "cell_type": "code",
   "execution_count": 478,
   "metadata": {},
   "outputs": [],
   "source": [
    "# X_train, X_test, y_train, y_test = train_test_split(accidentes_antiguo_X, accidentes_antiguo_y, test_size=0.3, random_state=36) \n",
    "X_train_pro, X_test_pro, y_train_pro, y_test_pro = train_test_split(accidentes_antiguo_X_pro, accidentes_antiguo_y_pro, test_size=0.3, random_state=42) \n",
    "X_train, X_test, y_train, y_test = X_train_pro, X_test_pro, y_train_pro, y_test_pro "
   ]
  },
  {
   "cell_type": "code",
   "execution_count": 479,
   "metadata": {},
   "outputs": [
    {
     "name": "stdout",
     "output_type": "stream",
     "text": [
      "Lesividad:  HL  Conteo:  (102716, 77)\n",
      "Lesividad:  HG  Conteo:  (8850, 77)\n",
      "Lesividad:  IL  Conteo:  (98387, 77)\n",
      "Lesividad:  MT  Conteo:  (275, 77)\n"
     ]
    }
   ],
   "source": [
    "## exploramos el dataset equilibrando mejor\n",
    "for i in y_train.unique():\n",
    "    print(\"Lesividad: \",i, \" Conteo: \",accidentes_antiguo[accidentes_antiguo[\"lesividad\"]==i].shape)"
   ]
  },
  {
   "cell_type": "code",
   "execution_count": 503,
   "metadata": {},
   "outputs": [
    {
     "data": {
      "text/html": [
       "<style>#sk-container-id-22 {color: black;}#sk-container-id-22 pre{padding: 0;}#sk-container-id-22 div.sk-toggleable {background-color: white;}#sk-container-id-22 label.sk-toggleable__label {cursor: pointer;display: block;width: 100%;margin-bottom: 0;padding: 0.3em;box-sizing: border-box;text-align: center;}#sk-container-id-22 label.sk-toggleable__label-arrow:before {content: \"▸\";float: left;margin-right: 0.25em;color: #696969;}#sk-container-id-22 label.sk-toggleable__label-arrow:hover:before {color: black;}#sk-container-id-22 div.sk-estimator:hover label.sk-toggleable__label-arrow:before {color: black;}#sk-container-id-22 div.sk-toggleable__content {max-height: 0;max-width: 0;overflow: hidden;text-align: left;background-color: #f0f8ff;}#sk-container-id-22 div.sk-toggleable__content pre {margin: 0.2em;color: black;border-radius: 0.25em;background-color: #f0f8ff;}#sk-container-id-22 input.sk-toggleable__control:checked~div.sk-toggleable__content {max-height: 200px;max-width: 100%;overflow: auto;}#sk-container-id-22 input.sk-toggleable__control:checked~label.sk-toggleable__label-arrow:before {content: \"▾\";}#sk-container-id-22 div.sk-estimator input.sk-toggleable__control:checked~label.sk-toggleable__label {background-color: #d4ebff;}#sk-container-id-22 div.sk-label input.sk-toggleable__control:checked~label.sk-toggleable__label {background-color: #d4ebff;}#sk-container-id-22 input.sk-hidden--visually {border: 0;clip: rect(1px 1px 1px 1px);clip: rect(1px, 1px, 1px, 1px);height: 1px;margin: -1px;overflow: hidden;padding: 0;position: absolute;width: 1px;}#sk-container-id-22 div.sk-estimator {font-family: monospace;background-color: #f0f8ff;border: 1px dotted black;border-radius: 0.25em;box-sizing: border-box;margin-bottom: 0.5em;}#sk-container-id-22 div.sk-estimator:hover {background-color: #d4ebff;}#sk-container-id-22 div.sk-parallel-item::after {content: \"\";width: 100%;border-bottom: 1px solid gray;flex-grow: 1;}#sk-container-id-22 div.sk-label:hover label.sk-toggleable__label {background-color: #d4ebff;}#sk-container-id-22 div.sk-serial::before {content: \"\";position: absolute;border-left: 1px solid gray;box-sizing: border-box;top: 0;bottom: 0;left: 50%;z-index: 0;}#sk-container-id-22 div.sk-serial {display: flex;flex-direction: column;align-items: center;background-color: white;padding-right: 0.2em;padding-left: 0.2em;position: relative;}#sk-container-id-22 div.sk-item {position: relative;z-index: 1;}#sk-container-id-22 div.sk-parallel {display: flex;align-items: stretch;justify-content: center;background-color: white;position: relative;}#sk-container-id-22 div.sk-item::before, #sk-container-id-22 div.sk-parallel-item::before {content: \"\";position: absolute;border-left: 1px solid gray;box-sizing: border-box;top: 0;bottom: 0;left: 50%;z-index: -1;}#sk-container-id-22 div.sk-parallel-item {display: flex;flex-direction: column;z-index: 1;position: relative;background-color: white;}#sk-container-id-22 div.sk-parallel-item:first-child::after {align-self: flex-end;width: 50%;}#sk-container-id-22 div.sk-parallel-item:last-child::after {align-self: flex-start;width: 50%;}#sk-container-id-22 div.sk-parallel-item:only-child::after {width: 0;}#sk-container-id-22 div.sk-dashed-wrapped {border: 1px dashed gray;margin: 0 0.4em 0.5em 0.4em;box-sizing: border-box;padding-bottom: 0.4em;background-color: white;}#sk-container-id-22 div.sk-label label {font-family: monospace;font-weight: bold;display: inline-block;line-height: 1.2em;}#sk-container-id-22 div.sk-label-container {text-align: center;}#sk-container-id-22 div.sk-container {/* jupyter's `normalize.less` sets `[hidden] { display: none; }` but bootstrap.min.css set `[hidden] { display: none !important; }` so we also need the `!important` here to be able to override the default hidden behavior on the sphinx rendered scikit-learn.org. See: https://github.com/scikit-learn/scikit-learn/issues/21755 */display: inline-block !important;position: relative;}#sk-container-id-22 div.sk-text-repr-fallback {display: none;}</style><div id=\"sk-container-id-22\" class=\"sk-top-container\"><div class=\"sk-text-repr-fallback\"><pre>RandomForestClassifier(n_jobs=-1, random_state=42)</pre><b>In a Jupyter environment, please rerun this cell to show the HTML representation or trust the notebook. <br />On GitHub, the HTML representation is unable to render, please try loading this page with nbviewer.org.</b></div><div class=\"sk-container\" hidden><div class=\"sk-item\"><div class=\"sk-estimator sk-toggleable\"><input class=\"sk-toggleable__control sk-hidden--visually\" id=\"sk-estimator-id-22\" type=\"checkbox\" checked><label for=\"sk-estimator-id-22\" class=\"sk-toggleable__label sk-toggleable__label-arrow\">RandomForestClassifier</label><div class=\"sk-toggleable__content\"><pre>RandomForestClassifier(n_jobs=-1, random_state=42)</pre></div></div></div></div></div>"
      ],
      "text/plain": [
       "RandomForestClassifier(n_jobs=-1, random_state=42)"
      ]
     },
     "execution_count": 503,
     "metadata": {},
     "output_type": "execute_result"
    }
   ],
   "source": [
    "clf = RandomForestClassifier(n_estimators=100, random_state=42, n_jobs=-1, bootstrap=True)\n",
    "clf.fit(X_train, y_train)"
   ]
  },
  {
   "cell_type": "code",
   "execution_count": 504,
   "metadata": {},
   "outputs": [],
   "source": [
    "# from sklearn import tree\n",
    "# clf = tree.DecisionTreeClassifier()\n",
    "# clf.fit(X_train, y_train)"
   ]
  },
  {
   "cell_type": "code",
   "execution_count": 505,
   "metadata": {},
   "outputs": [],
   "source": [
    "prediction = clf.predict(X_test)"
   ]
  },
  {
   "cell_type": "code",
   "execution_count": 506,
   "metadata": {},
   "outputs": [
    {
     "data": {
      "text/plain": [
       "((248, 76), (248,), (248,))"
      ]
     },
     "execution_count": 506,
     "metadata": {},
     "output_type": "execute_result"
    }
   ],
   "source": [
    "X_test.shape, y_test.shape, prediction.shape"
   ]
  },
  {
   "cell_type": "code",
   "execution_count": 507,
   "metadata": {},
   "outputs": [
    {
     "data": {
      "text/plain": [
       "0.3509155075934066"
      ]
     },
     "execution_count": 507,
     "metadata": {},
     "output_type": "execute_result"
    }
   ],
   "source": [
    "from sklearn.metrics import accuracy_score\n",
    "from sklearn.metrics import recall_score\n",
    "\n",
    "accuracy_score(y_test, prediction) \n",
    "recall_score(y_test, prediction, average=\"macro\")"
   ]
  },
  {
   "cell_type": "code",
   "execution_count": 508,
   "metadata": {},
   "outputs": [
    {
     "name": "stdout",
     "output_type": "stream",
     "text": [
      "(248,) (248,)\n"
     ]
    },
    {
     "data": {
      "image/png": "[encoded data removed]",
      "text/plain": [
       "<Figure size 640x480 with 1 Axes>"
      ]
     },
     "metadata": {},
     "output_type": "display_data"
    }
   ],
   "source": [
    "from sklearn.metrics import confusion_matrix\n",
    "import seaborn as sns\n",
    "import matplotlib.pyplot as plt\n",
    "\n",
    "print(y_test.shape, prediction.shape)\n",
    "ax= plt.subplot()\n",
    "confusion_matrix = confusion_matrix(y_test, prediction)\n",
    "\n",
    "class_labels = np.unique(prediction)\n",
    "\n",
    "conf_matrix_df = pd.DataFrame(confusion_matrix, index=class_labels, columns=class_labels)\n",
    "\n",
    "sns.heatmap(conf_matrix_df, annot=True, fmt=\"d\", cmap=\"Blues\", cbar=False)\n",
    "plt.xlabel(\"Predicción\")\n",
    "plt.ylabel(\"Etiqueta verdadera\")\n",
    "plt.title(\"Matriz de Confusión\")\n",
    "plt.show()"
   ]
  },
  {
   "cell_type": "code",
   "execution_count": 509,
   "metadata": {},
   "outputs": [],
   "source": [
    "new_prediction = clf.predict(accidentes_nuevo)"
   ]
  }
 ],
 "metadata": {
  "kernelspec": {
   "display_name": "Python 3",
   "language": "python",
   "name": "python3"
  },
  "language_info": {
   "codemirror_mode": {
    "name": "ipython",
    "version": 3
   },
   "file_extension": ".py",
   "mimetype": "text/x-python",
   "name": "python",
   "nbconvert_exporter": "python",
   "pygments_lexer": "ipython3",
   "version": "3.8.10"
  }
 },
 "nbformat": 4,
 "nbformat_minor": 2
}
